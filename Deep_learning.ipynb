{
  "cells": [
    {
      "cell_type": "markdown",
      "metadata": {
        "id": "view-in-github",
        "colab_type": "text"
      },
      "source": [
        "<a href=\"https://colab.research.google.com/github/mohdammar128/DeepLearning-/blob/main/Deep_learning.ipynb\" target=\"_parent\"><img src=\"https://colab.research.google.com/assets/colab-badge.svg\" alt=\"Open In Colab\"/></a>"
      ]
    },
    {
      "cell_type": "markdown",
      "metadata": {
        "id": "Z0f0e_ASRCTz"
      },
      "source": []
    },
    {
      "cell_type": "markdown",
      "metadata": {
        "id": "8xbLKdZgefxy"
      },
      "source": [
        "# Neural Network implementation from scratch\n",
        "hours studying | hours_sleeping | score_in test\n",
        "\n"
      ]
    },
    {
      "cell_type": "code",
      "execution_count": null,
      "metadata": {
        "id": "c8JA08MnN2DV"
      },
      "outputs": [],
      "source": [
        "#importing libraries\n",
        "import numpy as np\n",
        "import pandas as pd\n",
        "import matplotlib.pyplot as plt\n",
        "import seaborn as sns\n",
        "import warnings\n",
        "warnings.filterwarnings('ignore')"
      ]
    },
    {
      "cell_type": "code",
      "execution_count": null,
      "metadata": {
        "colab": {
          "base_uri": "https://localhost:8080/"
        },
        "id": "1qfiw0XqOET-",
        "outputId": "c0a6ed3d-3782-4b07-abe2-45b25e0da16a"
      },
      "outputs": [
        {
          "data": {
            "text/plain": [
              "array([[ 3.,  5.],\n",
              "       [ 5.,  1.],\n",
              "       [10.,  2.]])"
            ]
          },
          "execution_count": 3,
          "metadata": {},
          "output_type": "execute_result"
        }
      ],
      "source": [
        "X=np.array([[3,5],[5,1],[10,2]],dtype=float)\n",
        "X"
      ]
    },
    {
      "cell_type": "code",
      "execution_count": null,
      "metadata": {
        "colab": {
          "base_uri": "https://localhost:8080/"
        },
        "id": "_zf68DwKOVUT",
        "outputId": "894e1b9d-c224-4b6a-c155-5dc4c4e08338"
      },
      "outputs": [
        {
          "data": {
            "text/plain": [
              "array([[75.],\n",
              "       [82.],\n",
              "       [93.]])"
            ]
          },
          "execution_count": 4,
          "metadata": {},
          "output_type": "execute_result"
        }
      ],
      "source": [
        "Y=np.array([[75],[82],[93]],dtype=float)\n",
        "Y"
      ]
    },
    {
      "cell_type": "code",
      "execution_count": null,
      "metadata": {
        "id": "EfgR7tQYPDvE"
      },
      "outputs": [],
      "source": [
        "#hours studying | hours_sleeping | score_in test"
      ]
    },
    {
      "cell_type": "markdown",
      "metadata": {
        "id": "OIo9KsjfPuJY"
      },
      "source": [
        "# **Normalizing Data**\n"
      ]
    },
    {
      "cell_type": "code",
      "execution_count": null,
      "metadata": {
        "id": "f7r8vRLgPd6m"
      },
      "outputs": [],
      "source": [
        "X=X/np.amax(X,axis=0)\n",
        "Y=Y/100"
      ]
    },
    {
      "cell_type": "code",
      "execution_count": null,
      "metadata": {
        "colab": {
          "base_uri": "https://localhost:8080/"
        },
        "id": "oTtnTFcvQJDn",
        "outputId": "989a693e-0e97-4eff-eb76-4ea6328704d7"
      },
      "outputs": [
        {
          "data": {
            "text/plain": [
              "(array([[0.3, 1. ],\n",
              "        [0.5, 0.2],\n",
              "        [1. , 0.4]]),\n",
              " array([[0.75],\n",
              "        [0.82],\n",
              "        [0.93]]))"
            ]
          },
          "execution_count": 7,
          "metadata": {},
          "output_type": "execute_result"
        }
      ],
      "source": [
        "X,Y"
      ]
    },
    {
      "cell_type": "code",
      "execution_count": null,
      "metadata": {
        "colab": {
          "base_uri": "https://localhost:8080/"
        },
        "id": "yL1mQ0JbQTyN",
        "outputId": "73c09787-fad2-4abc-a413-fdbbc156a6c7"
      },
      "outputs": [
        {
          "data": {
            "text/plain": [
              "((3, 2), (3, 1))"
            ]
          },
          "execution_count": 8,
          "metadata": {},
          "output_type": "execute_result"
        }
      ],
      "source": [
        "X.shape,Y.shape"
      ]
    },
    {
      "cell_type": "markdown",
      "metadata": {
        "id": "hRRmqAdMdnT2"
      },
      "source": []
    },
    {
      "cell_type": "code",
      "execution_count": null,
      "metadata": {
        "id": "zw0_gmSsd6SM"
      },
      "outputs": [],
      "source": [
        "class NeuralNetwork():\n",
        "  #Define Hyperparameter\n",
        "  def __init__(self):\n",
        "    self.input_size=2\n",
        "    self.output_size=1\n",
        "    self.hidden_size=3\n",
        " #Define Weight parameter\n",
        "    self.W=np.random.randn(self.input_size,self.hidden_size)\n",
        "    self.V=np.random.randn(self.hidden_size,self.output_size)\n",
        "  def forward(self,X):\n",
        "      z1=np.dot(X,self.W) #first Hidden layer z_in\n",
        "      self.a1=self.sigmoid(z1) # apply activation function for first hidden layer and store it as instance variable\n",
        "      z2=np.dot(self.a1,self.V)\n",
        "      y_hat=self.sigmoid(z2)\n",
        "      return y_hat\n",
        "    #sigmoid funtion\n",
        "  def sigmoid(self,z):\n",
        "    z_out=1/(1+np.exp(-z))\n",
        "    return z_out\n",
        "\n",
        "  def sigmoid_derivative(self,z):\n",
        "    return np.exp(-z)/((1+np.exp(-z))**2)\n",
        "\n",
        "  def constFuntion(self,X,Y):\n",
        "    self.y_hat=self.forward(X)\n",
        "    return 0.5*sum((Y-self.y_hat)**2)\n",
        "\n",
        "  def costFuntion_derivative(self,X,Y):\n",
        "    self.y_hat=self.forward(X)\n",
        "    #dJ/dw= -(y-y_hat)*f'(y_hat)\n",
        "    delta3=np.multiply(-(Y-self.y_hat),self.sigmoid_derivative(self.y_hat))\n",
        "    #calculated gradient\n",
        "    djdV=np.dot(self.a1.T,delta3)\n",
        "    #propagating it to back\n",
        "    delta2=np.dot(delta3,self.V.T)*self.sigmoid_derivative(self.a1)\n",
        "    djdW=np.dot(X.T,delta2)\n",
        "\n",
        "    return djdW,djdV\n",
        "\n",
        "  def getParam(self):\n",
        "    params=np.concatenate((self.W.ravel(),self.V.ravel()))\n",
        "    return params\n",
        "\n",
        "  def setParam(self,params):\n",
        "    #get lastindex of W vetor\n",
        "    w_start=0\n",
        "    w_end=self.hidden_size*self.input_size\n",
        "    self.W=np.reshape(params[w_start:w_end],(self.input_size,self.hidden_size))\n",
        "    v_start=w_end\n",
        "    v_end=len(params)\n",
        "    self.V=np.reshape(params[v_start:v_end],(self.hidden_size,self.output_size))\n",
        "\n",
        "\n",
        "  def compte_gradient(self,X,Y):\n",
        "    djdW,djdV=self.costFuntion_derivative(X,Y)\n",
        "    return np.concatenate((djdW.ravel(),djdV.ravel()))"
      ]
    },
    {
      "cell_type": "code",
      "execution_count": null,
      "metadata": {
        "id": "HzZtyVTieTZJ"
      },
      "outputs": [],
      "source": [
        "from scipy import optimize"
      ]
    },
    {
      "cell_type": "code",
      "execution_count": null,
      "metadata": {
        "id": "EkwlU70peWvH"
      },
      "outputs": [],
      "source": [
        "class Trainer(object):\n",
        "  def __init__(self,nn):\n",
        "    self.nn=nn\n",
        "\n",
        "#After each iteration this will be call to updates weight\n",
        "  def callbackF(self,params):\n",
        "    self.nn.setParam(params)\n",
        "    cost=self.nn.constFuntion(X,Y)\n",
        "    self.J.append(cost)\n",
        "\n",
        "  def costFunctionWrapper(self,params,X,Y):\n",
        "    self.nn.setParam(params)\n",
        "    cost=self.nn.constFuntion(X,Y)\n",
        "    grad=self.nn.compte_gradient(X,Y)\n",
        "    return cost,grad\n",
        "\n",
        "  def train(self,X,Y):\n",
        "    params0=self.nn.getParam()\n",
        "    self.X=X\n",
        "    self.Y=Y\n",
        "    self.J=[]\n",
        "    options={'maxiter':200,'disp':True}\n",
        "    _res=optimize.minimize(self.costFunctionWrapper,params0,jac=True,method='BFGS',args=(X,Y),options=options,callback=self.callbackF)\n",
        "    self.nn.setParam(_res.x)\n",
        "    self.optimization_result=_res"
      ]
    },
    {
      "cell_type": "code",
      "execution_count": null,
      "metadata": {
        "colab": {
          "base_uri": "https://localhost:8080/"
        },
        "id": "SBWybgONiuxQ",
        "outputId": "580f1820-1e7f-4269-b733-4cb91758cd0a"
      },
      "outputs": [
        {
          "name": "stdout",
          "output_type": "stream",
          "text": [
            "         Current function value: 0.001269\n",
            "         Iterations: 18\n",
            "         Function evaluations: 79\n",
            "         Gradient evaluations: 67\n"
          ]
        }
      ],
      "source": [
        "NN=NeuralNetwork()\n",
        "T=Trainer(NN)\n",
        "T.train(X,Y)"
      ]
    },
    {
      "cell_type": "code",
      "execution_count": null,
      "metadata": {
        "colab": {
          "base_uri": "https://localhost:8080/",
          "height": 449
        },
        "id": "ABgXqYDxjzAo",
        "outputId": "dc01a43a-2fd4-46cd-8c8d-25b181fe6630"
      },
      "outputs": [
        {
          "data": {
            "image/png": "[encoded data removed]",
            "text/plain": [
              "<Figure size 640x480 with 1 Axes>"
            ]
          },
          "metadata": {},
          "output_type": "display_data"
        }
      ],
      "source": [
        "plt.plot(T.J)\n",
        "plt.xlabel('Iterations')\n",
        "plt.ylabel('Cost')\n",
        "plt.show()"
      ]
    },
    {
      "cell_type": "markdown",
      "metadata": {
        "id": "QHy13VhUkhmq"
      },
      "source": [
        "# creating same thing using tensorflow"
      ]
    },
    {
      "cell_type": "code",
      "execution_count": null,
      "metadata": {
        "id": "j_u88iB0khLi"
      },
      "outputs": [],
      "source": [
        "from tensorflow.keras.models import Sequential\n",
        "from tensorflow.keras.layers import Dense\n",
        "from sklearn.model_selection import train_test_split\n",
        "from sklearn.preprocessing import MinMaxScaler"
      ]
    },
    {
      "cell_type": "code",
      "execution_count": null,
      "metadata": {
        "id": "-UZFxxhXnXJA"
      },
      "outputs": [],
      "source": [
        "X = np.array(([2, 5], [1, 8], [3, 3], [4, 6], [7, 2],\n",
        "              [8, 4], [5, 9], [6, 1], [9, 7], [10, 5]),dtype=float)\n",
        "\n",
        "Y = np.array(([60], [72], [55], [68], [80],\n",
        "              [85], [70], [58], [92], [75]),dtype=float)"
      ]
    },
    {
      "cell_type": "code",
      "execution_count": null,
      "metadata": {
        "id": "dN2eGWnfn3oM"
      },
      "outputs": [],
      "source": [
        "scaler = MinMaxScaler()\n",
        "X = scaler.fit_transform(X)\n",
        "Y = scaler.fit_transform(Y)\n"
      ]
    },
    {
      "cell_type": "code",
      "execution_count": null,
      "metadata": {
        "id": "F26CRUqNoCco"
      },
      "outputs": [],
      "source": [
        "X_train,X_test,Y_train,Y_test=train_test_split(X,Y,test_size=0.2,random_state=42)"
      ]
    },
    {
      "cell_type": "code",
      "execution_count": null,
      "metadata": {
        "colab": {
          "base_uri": "https://localhost:8080/"
        },
        "id": "rGO24OnLoLgd",
        "outputId": "947a1951-894b-43ef-b449-a5ef239f4be9"
      },
      "outputs": [
        {
          "data": {
            "text/plain": [
              "((8, 2), (8, 1))"
            ]
          },
          "execution_count": 18,
          "metadata": {},
          "output_type": "execute_result"
        }
      ],
      "source": [
        "X_train.shape,Y_train.shape"
      ]
    },
    {
      "cell_type": "code",
      "execution_count": null,
      "metadata": {
        "id": "JoKO8GDJoWSB"
      },
      "outputs": [],
      "source": [
        "model=Sequential([\n",
        "    Dense(3,activation='sigmoid',input_shape=(2,)),#Hidden  layer with 3 neurons\n",
        "    Dense(1,activation='sigmoid')\n",
        "])\n",
        "model.compile(optimizer='adam',loss='mse')"
      ]
    },
    {
      "cell_type": "code",
      "execution_count": null,
      "metadata": {
        "colab": {
          "background_save": true
        },
        "id": "tIQ6z-AjpNN0"
      },
      "outputs": [],
      "source": [
        "model.fit(X_train,Y_train,epochs=1000,verbose=1)"
      ]
    },
    {
      "cell_type": "markdown",
      "source": [
        "# Using Pytorch"
      ],
      "metadata": {
        "id": "fGmE11fve-9j"
      }
    },
    {
      "cell_type": "code",
      "execution_count": 2,
      "metadata": {
        "id": "DgbtLGSZ88Pw"
      },
      "outputs": [],
      "source": [
        "import torch\n",
        "import torch.nn as nn\n",
        "import torch.optim as optim\n",
        "import matplotlib.pyplot as plt\n",
        "from sklearn.model_selection import train_test_split\n",
        "from sklearn.preprocessing import MinMaxScaler"
      ]
    },
    {
      "cell_type": "code",
      "execution_count": 4,
      "metadata": {
        "id": "hNWDq-X09DVB"
      },
      "outputs": [],
      "source": [
        "X=torch.tensor(([2, 5], [1, 8], [3, 3], [4, 6], [7, 2],\n",
        "              [8, 4], [5, 9], [6, 1], [9, 7], [10, 5]),dtype=torch.float32)\n",
        "Y=torch.tensor(([60], [72], [55], [68], [80],\n",
        "              [85], [70], [58], [92], [75]),dtype=torch.float32)"
      ]
    },
    {
      "cell_type": "code",
      "execution_count": 7,
      "metadata": {
        "id": "L0Yk4L-y99dy",
        "colab": {
          "base_uri": "https://localhost:8080/"
        },
        "outputId": "517f99e7-ef3f-4ae6-e26c-f84b5ff0e811"
      },
      "outputs": [
        {
          "output_type": "stream",
          "name": "stderr",
          "text": [
            "<ipython-input-7-e5e947f72512>:10: UserWarning: To copy construct from a tensor, it is recommended to use sourceTensor.clone().detach() or sourceTensor.clone().detach().requires_grad_(True), rather than torch.tensor(sourceTensor).\n",
            "  X_train=torch.tensor(X_train,dtype=torch.float32)\n",
            "<ipython-input-7-e5e947f72512>:11: UserWarning: To copy construct from a tensor, it is recommended to use sourceTensor.clone().detach() or sourceTensor.clone().detach().requires_grad_(True), rather than torch.tensor(sourceTensor).\n",
            "  Y_train=torch.tensor(Y_train,dtype=torch.float32)\n",
            "<ipython-input-7-e5e947f72512>:12: UserWarning: To copy construct from a tensor, it is recommended to use sourceTensor.clone().detach() or sourceTensor.clone().detach().requires_grad_(True), rather than torch.tensor(sourceTensor).\n",
            "  X_test=torch.tensor(X_test,dtype=torch.float32)\n",
            "<ipython-input-7-e5e947f72512>:13: UserWarning: To copy construct from a tensor, it is recommended to use sourceTensor.clone().detach() or sourceTensor.clone().detach().requires_grad_(True), rather than torch.tensor(sourceTensor).\n",
            "  Y_test=torch.tensor(Y_test,dtype=torch.float32)\n"
          ]
        }
      ],
      "source": [
        "scaler=MinMaxScaler()\n",
        "X_scaled=scaler.fit_transform(X)\n",
        "Y_scaled=scaler.fit_transform(Y)\n",
        "\n",
        "X_scaled=torch.tensor(X_scaled,dtype=torch.float32)\n",
        "Y_scaled=torch.tensor(Y_scaled,dtype=torch.float32)\n",
        "\n",
        "X_train,X_test,Y_train,Y_test=train_test_split(X_scaled,Y_scaled,test_size=0.2,random_state=42)\n",
        "\n",
        "X_train=torch.tensor(X_train,dtype=torch.float32)\n",
        "Y_train=torch.tensor(Y_train,dtype=torch.float32)\n",
        "X_test=torch.tensor(X_test,dtype=torch.float32)\n",
        "Y_test=torch.tensor(Y_test,dtype=torch.float32)"
      ]
    },
    {
      "cell_type": "code",
      "source": [
        "class NeuralNet(nn.Module):\n",
        "  def __init__(self):\n",
        "    super(NeuralNet,self).__init__()\n",
        "    self.hidden_layer=nn.Linear(2,3)\n",
        "    self.output_layer=nn.Linear(3,1)\n",
        "    self.relu=nn.ReLU()\n",
        "  def forward(self,x):\n",
        "    x=self.hidden_layer(x)\n",
        "    x=self.relu(x)\n",
        "    x=self.output_layer(x)\n",
        "    return x\n",
        ""
      ],
      "metadata": {
        "id": "wsTdylsgRArA"
      },
      "execution_count": 8,
      "outputs": []
    },
    {
      "cell_type": "code",
      "source": [
        "model=NeuralNet()\n",
        "criterion=nn.MSELoss()\n",
        "optimizer=optim.Adam(model.parameters(),lr=0.01)"
      ],
      "metadata": {
        "id": "BQsOwVdlR1Gs"
      },
      "execution_count": 9,
      "outputs": []
    },
    {
      "cell_type": "code",
      "source": [
        "print(f\"{criterion}\")\n",
        "print(f\"{optimizer}\")"
      ],
      "metadata": {
        "colab": {
          "base_uri": "https://localhost:8080/"
        },
        "id": "2KLshy65Qx5A",
        "outputId": "8baac026-1fd4-4ea7-b42c-b3122c50db6e"
      },
      "execution_count": 10,
      "outputs": [
        {
          "output_type": "stream",
          "name": "stdout",
          "text": [
            "MSELoss()\n",
            "Adam (\n",
            "Parameter Group 0\n",
            "    amsgrad: False\n",
            "    betas: (0.9, 0.999)\n",
            "    capturable: False\n",
            "    differentiable: False\n",
            "    eps: 1e-08\n",
            "    foreach: None\n",
            "    fused: None\n",
            "    lr: 0.01\n",
            "    maximize: False\n",
            "    weight_decay: 0\n",
            ")\n"
          ]
        }
      ]
    },
    {
      "cell_type": "code",
      "source": [
        "epochs=1000\n",
        "losses=[]\n",
        "for epoch  in range(epochs):\n",
        "  #forward pass and parameter\n",
        "  y_pred=model(X_train)\n",
        "  loss=criterion(y_pred,Y_train)\n",
        "  #backward pass\n",
        "  optimizer.zero_grad()\n",
        "  loss.backward()\n",
        "  optimizer.step()\n",
        "  losses.append(loss.item())\n",
        "  if (epoch+1)%100==0:\n",
        "    print(f'Epoch [{epoch+1}/{epochs}], Loss: {loss.item():.4f}')\n",
        ""
      ],
      "metadata": {
        "colab": {
          "base_uri": "https://localhost:8080/"
        },
        "id": "1bJMpYZ8SxIN",
        "outputId": "06869e2d-e021-43bf-cf09-076f278a943b"
      },
      "execution_count": 11,
      "outputs": [
        {
          "output_type": "stream",
          "name": "stdout",
          "text": [
            "Epoch [100/1000], Loss: 0.0324\n",
            "Epoch [200/1000], Loss: 0.0309\n",
            "Epoch [300/1000], Loss: 0.0309\n",
            "Epoch [400/1000], Loss: 0.0308\n",
            "Epoch [500/1000], Loss: 0.0308\n",
            "Epoch [600/1000], Loss: 0.0308\n",
            "Epoch [700/1000], Loss: 0.0308\n",
            "Epoch [800/1000], Loss: 0.0308\n",
            "Epoch [900/1000], Loss: 0.0308\n",
            "Epoch [1000/1000], Loss: 0.0308\n"
          ]
        }
      ]
    },
    {
      "cell_type": "code",
      "source": [
        "plt.plot(losses,color='red')\n",
        "plt.xlabel('Epochs')\n",
        "plt.ylabel('Loss')\n",
        "plt.show()"
      ],
      "metadata": {
        "colab": {
          "base_uri": "https://localhost:8080/",
          "height": 450
        },
        "id": "VLffnNRkT_o2",
        "outputId": "b6975eea-47c1-4b0f-ff7e-ae7e6f1f7e9c"
      },
      "execution_count": 15,
      "outputs": [
        {
          "output_type": "display_data",
          "data": {
            "text/plain": [
              "<Figure size 640x480 with 1 Axes>"
            ],
            "image/png": "[encoded data removed]"
          },
          "metadata": {}
        }
      ]
    },
    {
      "cell_type": "code",
      "source": [
        "losses.pop()"
      ],
      "metadata": {
        "colab": {
          "base_uri": "https://localhost:8080/"
        },
        "id": "hfto0qmOUu8e",
        "outputId": "29c34da7-f6e8-42ef-978f-d9693128dccd"
      },
      "execution_count": 17,
      "outputs": [
        {
          "output_type": "execute_result",
          "data": {
            "text/plain": [
              "0.03075585328042507"
            ]
          },
          "metadata": {},
          "execution_count": 17
        }
      ]
    },
    {
      "cell_type": "code",
      "source": [
        "with torch.no_grad():\n",
        "  y_pred=model(X_test)\n",
        "  loss=criterion(y_pred,Y_test)\n",
        "  print(f'Test Loss: {loss.item():.4f}')\n",
        "\n",
        "\n",
        "prediction=scaler.inverse_transform(y_pred.numpy())\n",
        "actual=scaler.inverse_transform(Y_test.numpy())\n",
        "print(f\"(actual,predicted): {(actual.flatten(),prediction.flatten())}\")\n"
      ],
      "metadata": {
        "colab": {
          "base_uri": "https://localhost:8080/"
        },
        "id": "NwdPY-sFU8Qj",
        "outputId": "e1b50c58-67dd-40c3-8947-e949cf406d1f"
      },
      "execution_count": 23,
      "outputs": [
        {
          "output_type": "stream",
          "name": "stdout",
          "text": [
            "Test Loss: 0.1020\n",
            "(actual,predicted): (array([92., 72.], dtype=float32), array([82.01471, 58.597  ], dtype=float32))\n"
          ]
        }
      ]
    }
  ],
  "metadata": {
    "colab": {
      "provenance": [],
      "authorship_tag": "ABX9TyMP3ctu308frWabb2Bq3AEN",
      "include_colab_link": true
    },
    "kernelspec": {
      "display_name": "Python 3",
      "name": "python3"
    },
    "language_info": {
      "name": "python"
    }
  },
  "nbformat": 4,
  "nbformat_minor": 0
}